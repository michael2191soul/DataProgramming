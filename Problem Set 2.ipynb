{
 "cells": [
  {
   "cell_type": "markdown",
   "metadata": {},
   "source": [
    "## Problem Set 2"
   ]
  },
  {
   "cell_type": "markdown",
   "metadata": {},
   "source": [
    "### Question 1\n",
    "Consider the following Python module:"
   ]
  },
  {
   "cell_type": "code",
   "execution_count": 34,
   "metadata": {},
   "outputs": [
    {
     "data": {
      "text/plain": [
       "6"
      ]
     },
     "execution_count": 34,
     "metadata": {},
     "output_type": "execute_result"
    }
   ],
   "source": [
    "a = 0\n",
    "\n",
    "def b():\n",
    "    global a\n",
    "    a = c(a)\n",
    "    \n",
    "def c(a):\n",
    "    return a + 2\n",
    "\n",
    "b()\n",
    "b()\n",
    "b()\n",
    "a"
   ]
  },
  {
   "cell_type": "markdown",
   "metadata": {},
   "source": [
    "At last, 6 is dispalyed when the last expression (a) is evaluated.\n",
    "1. a = 0, then the first b(), set 'a' as a global variable. Set global 'a' a new value with def c which has 'a' as the global scope. return value of def c(0) is 2. So, the global 'a' has a new value equals to 2.\n",
    "2. Since a is a global vairable, a = 2, then the second b(), going through the same process as above, after the def c(2), the returned value is 4. So, the global 'a' equals to 4.\n",
    "3. a = 4, then third b(), once again, def c(4) puts out 6 as the new value for 'a'. Therefore the output is 6 with last expression (a)."
   ]
  },
  {
   "cell_type": "markdown",
   "metadata": {},
   "source": [
    "### Question 2\n",
    "Function fileLength(), given to you, takes the name of a file as input and returns\n",
    "the length of the file:"
   ]
  },
  {
   "cell_type": "code",
   "execution_count": 35,
   "metadata": {},
   "outputs": [
    {
     "name": "stdout",
     "output_type": "stream",
     "text": [
      ">>> fileLength('midterm.py')\n",
      "735\n",
      ">>> fileLength('idterm.py')\n",
      "File idterm.py not found.\n"
     ]
    }
   ],
   "source": [
    "import os\n",
    "\n",
    "def fileLength(filename):\n",
    "    try:\n",
    "        length = os.path.getsize(filename)\n",
    "        print (length)\n",
    "    except:\n",
    "        print('File ' + filename + ' not found.')\n",
    "        \n",
    "print(\">>> fileLength('midterm.py')\")\n",
    "fileLength('midterm.py')\n",
    "\n",
    "print(\">>> fileLength('idterm.py')\")\n",
    "fileLength('idterm.py')"
   ]
  },
  {
   "cell_type": "markdown",
   "metadata": {},
   "source": [
    "### Question 3\n",
    "Write a class named Marsupial that can be used as shown below:"
   ]
  },
  {
   "cell_type": "code",
   "execution_count": 34,
   "metadata": {},
   "outputs": [
    {
     "name": "stdout",
     "output_type": "stream",
     "text": [
      "['doll', 'firetruck', 'kitten']\n"
     ]
    }
   ],
   "source": [
    "class Marsupial:\n",
    "    \n",
    "    def __init__(self):\n",
    "        self.q = []\n",
    "        \n",
    "    def put_in_pouch(self, item):\n",
    "        return self.q.append(item)\n",
    "            \n",
    "    def pouch_contents(self):\n",
    "        print (self.q)\n",
    "    \n",
    "m = Marsupial()\n",
    "m.put_in_pouch('doll')\n",
    "m.put_in_pouch('firetruck')\n",
    "m.put_in_pouch('kitten')\n",
    "m.pouch_contents()        "
   ]
  },
  {
   "cell_type": "code",
   "execution_count": 35,
   "metadata": {},
   "outputs": [
    {
     "name": "stdout",
     "output_type": "stream",
     "text": [
      ">>> k = Kangaroo(0,0)\n",
      ">>> print(k)\n",
      "I am a Kangaroo located at coordinates (0,0)\n",
      ">>> k.put_in_pouch('doll')\n",
      ">>> k.put_in_pouch('firetruck')\n",
      ">>> k.put_in_pouch('kitten')\n",
      ">>> k.pouch_contents()\n",
      "['doll', 'firetruck', 'kitten']\n",
      ">>> k.jump(1,0)\n",
      ">>> k.jump(1,0)\n",
      ">>> k.jump(1,0)\n",
      "I am a Kangaroo located at coordinates (3,0)\n"
     ]
    }
   ],
   "source": [
    "class Kangaroo(Marsupial):  \n",
    "       \n",
    "    def __init__(self, xcoord, ycoord):\n",
    "        self.x = xcoord\n",
    "        self.y = ycoord\n",
    "        Marsupial.__init__(self)\n",
    "        \n",
    "    def jump(self, xjump, yjump):\n",
    "        self.x += xjump\n",
    "        self.y += yjump\n",
    "        \n",
    "    def __str__(self):\n",
    "        return ('I am a Kangaroo located at coordinates (' + str(self.x) + ',' + str(self.y) + ')')\n",
    "    \n",
    "print(\">>> k = Kangaroo(0,0)\")\n",
    "k = Kangaroo(0,0)\n",
    "print(\">>> print(k)\")\n",
    "print(k)\n",
    "\n",
    "print(\">>> k.put_in_pouch('doll')\"+\n",
    "      \"\\n>>> k.put_in_pouch('firetruck')\"+\n",
    "      \"\\n>>> k.put_in_pouch('kitten')\"+\n",
    "      \"\\n>>> k.pouch_contents()\")\n",
    "k.put_in_pouch('doll')\n",
    "k.put_in_pouch('firetruck')\n",
    "k.put_in_pouch('kitten')\n",
    "k.pouch_contents()    \n",
    "\n",
    "print(\">>> k.jump(1,0)\"+\n",
    "      \"\\n>>> k.jump(1,0)\"+\n",
    "      \"\\n>>> k.jump(1,0)\")\n",
    "k.jump(1,0)\n",
    "k.jump(1,0)\n",
    "k.jump(1,0)\n",
    "print(k)\n"
   ]
  },
  {
   "cell_type": "markdown",
   "metadata": {},
   "source": [
    "### Question 4\n",
    "Implement a new GUI class App that combines user-defined tkinter widget classes\n",
    "Calculator and Mortgage displayed below: (This question can be done using a\n",
    ".py file)"
   ]
  },
  {
   "cell_type": "code",
   "execution_count": 1,
   "metadata": {},
   "outputs": [],
   "source": [
    "from tkinter import Tk, Label, Entry, Frame, BOTH, LEFT, RIGHT\n",
    "\n",
    "class Mortgage(Frame):\n",
    "    \n",
    "    def __init__(self, parent):\n",
    "        Frame.__init__(self, parent)\n",
    "        \n",
    "        labels = Frame(self, width=20)\n",
    "        labels.pack(side=LEFT)\n",
    "        \n",
    "        l = Label(labels, text='Loan amount:')\n",
    "        l.grid(row=0, column=0)\n",
    "        l = Label(labels, text='Interest rate:')\n",
    "        l.grid(row=1, column=0)\n",
    "        l = Label(labels, text='Loan terms:')\n",
    "        l.grid(row=2, column=0)\n",
    "        l = Label(labels, text='Compute Mortgage:')\n",
    "        l.grid(row=3, column=0) \n",
    "        \n",
    "        \n",
    "        entries = Entry(self, width=20)\n",
    "        entries.pack(side=RIGHT)\n",
    "        \n",
    "        e = Entry(entries, text='Loan amount:')\n",
    "        e.grid(row=0, column=0)\n",
    "        e = Entry(entries, text='Interest rate:')\n",
    "        e.grid(row=1, column=0)\n",
    "        e = Entry(entries, text='Loan terms:')\n",
    "        e.grid(row=2, column=0)\n",
    "        e = Entry(entries, text='Compute Mortgage:')\n",
    "        e.grid(row=3, column=0) \n",
    "        \n",
    "        \n"
   ]
  },
  {
   "cell_type": "code",
   "execution_count": 2,
   "metadata": {},
   "outputs": [],
   "source": [
    "from tkinter import Tk, Entry, RAISED, Frame, SUNKEN, Button, TOP, BOTTOM, LEFT, RIGHT\n",
    "\n",
    "class Calculator(Frame):\n",
    "\n",
    "    def __init__(self, parent=None):\n",
    "        Frame.__init__(self, parent)\n",
    "        \n",
    "        entry = Entry(self, width=30, relief=SUNKEN, borderwidth=3)\n",
    "        entry.pack(side=TOP)\n",
    "\n",
    "        buttons = Frame(self, width=30, borderwidth=3) \n",
    "        buttons.pack(side=BOTTOM)\n",
    "\n",
    "        labels = [['MC', 'M+', 'M-', 'MR'],     \n",
    "                   ['C', '√', 'x²', '+'],      \n",
    "                   ['7', '8', '9', '-'],  \n",
    "                   ['4', '5', '6', '*'],   \n",
    "                   ['1', '2', '3', '/'],   \n",
    "                   ['0', '.', '←', '=']]\n",
    "\n",
    "        for r in range(6):\n",
    "            for c in range(4):\n",
    "            # create button for row r and column c\n",
    "                button = Button(buttons,\n",
    "                                relief=RAISED,                    \n",
    "                                width=5,\n",
    "                                height=1,  \n",
    "                                padx=5,\n",
    "                                pady=2,\n",
    "                                borderwidth=3,\n",
    "                                text=labels[r][c])\n",
    "                    # place button in row r and column c\n",
    "                button.grid(row=r, column=c)\n",
    "\n",
    "        "
   ]
  },
  {
   "cell_type": "code",
   "execution_count": 3,
   "metadata": {},
   "outputs": [],
   "source": [
    "class App(Frame):\n",
    "\n",
    "    def __init__(self, master):\n",
    "        master.geometry(\"500x240\")\n",
    "        Frame.__init__(self, master)\n",
    "        mort = Mortgage(self)\n",
    "        mort.pack(side=LEFT)\n",
    "        calc = Calculator(self)\n",
    "        calc.pack(side=RIGHT)\n"
   ]
  },
  {
   "cell_type": "code",
   "execution_count": 4,
   "metadata": {},
   "outputs": [],
   "source": [
    "from tkinter import Tk\n",
    "root = Tk()\n",
    "app = App(root)\n",
    "root.resizable(width=False, height=False)\n",
    "app.pack()\n",
    "root.mainloop()"
   ]
  },
  {
   "cell_type": "markdown",
   "metadata": {},
   "source": [
    "### Question 5\n",
    "Write function collatz() that takes a positive integer x as input and prints the Collatz sequence starting at x. A Collatz sequence is obtained by repeatedly applying this rule to the previous number x in the sequence:\n",
    "\n",
    "x = 𝑥/2 𝑖𝑓 𝑥 𝑖𝑠 𝑒𝑣𝑒𝑛\n",
    "\n",
    "x = 3𝑥+1 𝑖𝑓 𝑥 𝑖𝑠 𝑜𝑑𝑑\n",
    "\n",
    "Your function should stop when the sequence gets to number 1. Your implementation must be recursive, without any loops."
   ]
  },
  {
   "cell_type": "code",
   "execution_count": 40,
   "metadata": {},
   "outputs": [
    {
     "name": "stdout",
     "output_type": "stream",
     "text": [
      ">>> collatz(10)\n",
      "10\n",
      "5\n",
      "16\n",
      "8\n",
      "4\n",
      "2\n",
      "1\n"
     ]
    }
   ],
   "source": [
    "def collatz(x):\n",
    "    print(int(x))\n",
    "    if x%2 == 0:\n",
    "        collatz(x/2)\n",
    "    else:\n",
    "        if x!=1:\n",
    "            collatz(3*x+1)\n",
    "        else:\n",
    "            False\n",
    "\n",
    "print(\">>> collatz(10)\")\n",
    "collatz(10)"
   ]
  },
  {
   "cell_type": "markdown",
   "metadata": {},
   "source": [
    "### Question 6 \n",
    "Write a recursive method binary() that takes a non-negative integer n and prints the binary representation of integer n."
   ]
  },
  {
   "cell_type": "code",
   "execution_count": 41,
   "metadata": {},
   "outputs": [],
   "source": [
    "from html.parser import HTMLParser\n",
    "\n",
    "class HeadingParser(HTMLParser):\n",
    "    \n",
    "    def handle_starttag(self, tag, attrs):\n",
    "        (tag)\n",
    "    \n",
    "    def handle_data(self, data):\n",
    "        (data)\n",
    "        \n",
    "\n",
    "#Reference: https://docs.python.org/3/library/html.parser.html"
   ]
  },
  {
   "cell_type": "code",
   "execution_count": 42,
   "metadata": {},
   "outputs": [
    {
     "name": "stdout",
     "output_type": "stream",
     "text": [
      ">>> binary(0)\n",
      "0\n",
      ">>> binary(1)\n",
      "1\n",
      ">>> binary(3)\n",
      "11\n",
      ">>> binary(9)\n",
      "1001\n"
     ]
    }
   ],
   "source": [
    "def binary(n):\n",
    "    \n",
    "    if n==0:      \n",
    "        return 0\n",
    "    else:         \n",
    "        return (n%2 + 10*binary(n//2))\n",
    "\n",
    "print(\">>> binary(0)\")\n",
    "print(binary(0))\n",
    "print(\">>> binary(1)\")\n",
    "print(binary(1))\n",
    "print(\">>> binary(3)\")\n",
    "print(binary(3))\n",
    "print(\">>> binary(9)\")\n",
    "print(binary(9))\n",
    "\n",
    "#Referenec https://www.geeksforgeeks.org/decimal-binary-number-using-recursion/"
   ]
  },
  {
   "cell_type": "markdown",
   "metadata": {},
   "source": [
    "### Question 7\n",
    "Implement a class named HeadingParser that can be used to parse an HTML document, and retrieve and print all the headings in the document. You should implement your class as a subclass of HTMLParser, defined in Standard Library module html.parser. When fed a string containing HTML code, your class should print the headings, one per line and in the order in which they appear in the document. Each heading should be indented as follows: an h1 heading should have indentation 0, and h2 heading should have indentation 1, etc. Test your implementation using w3c.html."
   ]
  },
  {
   "cell_type": "code",
   "execution_count": 54,
   "metadata": {},
   "outputs": [],
   "source": [
    "from html.parser import HTMLParser\n",
    "\n",
    "class HeadingParser(HTMLParser):\n",
    "    \n",
    "    def __init__(self):\n",
    "        #'initializes the parser and the initial bool, indent        \n",
    "        HTMLParser.__init__(self)\n",
    "        self.bool = False\n",
    "        self.indent = 0\n",
    "    \n",
    "    def handle_starttag(self, tag, attrs):\n",
    "        #find the heading if any, if found, set bool=True\n",
    "        if tag in {'h1','h2','h3','h4','h5','h6'}:\n",
    "            self.bool = True\n",
    "            \n",
    "    def handle_endtag(self, tag):\n",
    "        #find the end of heading if any, if found, set bool=False\n",
    "        if tag in {'h1','h2','h3','h4','h5','h6'}:\n",
    "            self.bool = False\n",
    "        \n",
    "    def handle_data(self, data):\n",
    "        if self.bool:\n",
    "            #print only when a heading is found (bool=True)\n",
    "            print('{}{}'.format(self.indent*' ', data))\n",
    "            #set indent 1 more space\n",
    "            self.indent += 1"
   ]
  },
  {
   "cell_type": "code",
   "execution_count": 53,
   "metadata": {},
   "outputs": [
    {
     "name": "stdout",
     "output_type": "stream",
     "text": [
      "W3C Mission\n",
      " Principles\n"
     ]
    }
   ],
   "source": [
    "infile = open('w3c.html')\n",
    "content = infile.read()\n",
    "infile.close()\n",
    "myparser = HeadingParser()\n",
    "myparser.feed(content)"
   ]
  },
  {
   "cell_type": "markdown",
   "metadata": {},
   "source": [
    "### Question 8\n",
    "Implement recursive function webdir() that takes as input: a URL (as a string) and non-negative integers depth and indent. Your function should visit every web page reachable from the starting URL web page in depth clicks or less, and print each web page's URL. As shown below, indentation, specified by indent, should be used to indicate the depth of a URL."
   ]
  },
  {
   "cell_type": "code",
   "execution_count": 1,
   "metadata": {},
   "outputs": [],
   "source": [
    "from urllib.parse import urljoin\n",
    "from html.parser import HTMLParser\n",
    "\n",
    "class Collector(HTMLParser):\n",
    "    'collects hyperlink URLs into a list'\n",
    "\n",
    "    def __init__(self, url):\n",
    "        'initializes parser, the url, and a list'\n",
    "        HTMLParser.__init__(self)\n",
    "        self.url = url\n",
    "        self.links = []\n",
    "        \n",
    "    def handle_starttag(self, tag, attrs):\n",
    "        'collects hyperlink URLs in their absolute format'\n",
    "        if tag == 'a':\n",
    "            for attr in attrs:\n",
    "                if attr[0] == 'href':\n",
    "                    # construct absolute URL\n",
    "                    absolute = urljoin(self.url, attr[1])\n",
    "                    if absolute[:4] == 'http': # collect HTTP URLs\n",
    "                        self.links.append(absolute)\n",
    "                        \n",
    "    def getLinks(self):\n",
    "        'returns hyperlinks URLs in their absolute format'\n",
    "        return self.links"
   ]
  },
  {
   "cell_type": "code",
   "execution_count": 2,
   "metadata": {},
   "outputs": [],
   "source": [
    "from urllib.request import urlopen\n",
    "\n",
    "def analyze(url, depth):\n",
    "    \n",
    "    # obtain links in the web page\n",
    "    content = urlopen(url).read().decode()\n",
    "    collector = Collector(url)\n",
    "    collector.feed(content)\n",
    "    urls = collector.getLinks()          # get list of links\n",
    "\n",
    "    # print the http links found in web page\n",
    "    for link in urls:\n",
    "        #print('{}{}'.format(depth*'    ', format(link)))\n",
    "        #print(link)\n",
    "        return urls"
   ]
  },
  {
   "cell_type": "code",
   "execution_count": 3,
   "metadata": {},
   "outputs": [],
   "source": [
    "visited = set() # initialize visited to an empty set\n",
    "count = 0\n",
    "def webdir(url, depth, indent):\n",
    "    '''a recursive web crawler that calls analyze()\n",
    "       on every visited web page'''\n",
    "    print('{}{}'.format(indent*' ', url))\n",
    "\n",
    "    global count \n",
    "    indent += 4\n",
    "    depth -= 1\n",
    "    \n",
    "    if depth < 0: \n",
    "        indent = 4 \n",
    "        depth = count \n",
    "    else:\n",
    "        count += 1\n",
    "\n",
    "    # add url to set of visited pages\n",
    "    global visited     # warns the programmer \n",
    "    visited.add(url)\n",
    "\n",
    "    # analyze() returns a list of hyperlink URLs in web page url \n",
    "    links = analyze(url, depth)\n",
    "\n",
    "    # recursively continue crawl from every link in links\n",
    "    for link in links:\n",
    "        # follow link only if not visited\n",
    "        if link not in visited:\n",
    "            try:\n",
    "                webdir(link, depth, indent)\n",
    "            except:\n",
    "                pass\n"
   ]
  },
  {
   "cell_type": "code",
   "execution_count": null,
   "metadata": {},
   "outputs": [
    {
     "name": "stdout",
     "output_type": "stream",
     "text": [
      "https://michael2191soul.wixsite.com/canadianqualitylife\n",
      "    https://michael2191soul.wixsite.com/canadianqualitylife/shop\n",
      "        https://michael2191soul.wixsite.com/canadianqualitylife/faq\n",
      "    https://michael2191soul.wixsite.com/canadianqualitylife/cart\n",
      "        https://www.facebook.com/michael.su.9465\n",
      "            https://www.facebook.com/recover/initiate/?ars=facebook_login\n",
      "    https://www.facebook.com/\n",
      "        https://www.facebook.com/recover/initiate?lwv=110&ars=royal_blue_bar\n",
      "            https://www.facebook.com/recover/initiate?lwv=301&ars=royal_blue_bar\n",
      "                https://www.facebook.com/login.php\n",
      "                    https://www.facebook.com/r.php?locale=en_US\n",
      "    https://www.facebook.com/legal/terms/update\n",
      "        https://www.facebook.com/legal/terms/plain_text_terms\n",
      "            https://www.facebook.com/help/1561485474074139?ref=tos\n",
      "                https://www.facebook.com/help/645404059595478\n",
      "                    https://www.facebook.com/help/?helpref=hc_global_nav\n",
      "                        https://www.facebook.com/login/\n",
      "                            https://www.facebook.com/r.php?locale=en_US&display=page\n",
      "                                https://www.facebook.com/about/privacy/update\n",
      "                                    https://www.facebook.com/about/privacy/update/printable\n",
      "    https://www.facebook.com/help/1561485474074139?ref=dp\n",
      "        https://www.facebook.com/reg/\n",
      "            https://www.facebook.com/policies/cookies/\n",
      "                https://www.facebook.com/policy/cookies/printable\n",
      "                    https://www.facebook.com/help/1561485474074139\n",
      "                        https://www.facebook.com/help/570785306433644?helpref=hc_global_nav\n",
      "                            https://www.facebook.com/help/1540345696275090?helpref=hc_global_nav\n"
     ]
    }
   ],
   "source": [
    "webdir('https://michael2191soul.wixsite.com/canadianqualitylife',2,0)"
   ]
  },
  {
   "cell_type": "markdown",
   "metadata": {},
   "source": [
    "### Question 9\n",
    "Write SQL queries on the below database table that return:\n",
    "\n",
    "a) All the temperature data.\n",
    "\n",
    "b) All the cities, but without repetition.\n",
    "\n",
    "c) All the records for India.\n",
    "\n",
    "d) All the Fall records.\n",
    "\n",
    "e) The city, country, and season for which the average rainfall is between 200 and 400 millimeters.\n",
    "\n",
    "f) The city and country for which the average Fall temperature is above 20 degrees, in increasing temperature order.\n",
    "\n",
    "g) The total annual rainfall for Cairo.\n",
    "\n",
    "h) The total rainfall for each season."
   ]
  },
  {
   "cell_type": "code",
   "execution_count": null,
   "metadata": {},
   "outputs": [],
   "source": [
    "#a) \n",
    "SELECT Temperature from TABLE\n",
    "#b) \n",
    "SELECT DISTINCT City from TABLE\n",
    "#c) \n",
    "SELECT * from TABLE WHERE Country='India'\n",
    "#d) \n",
    "SELECT * from TABLE WHERE Season='Fall'\n",
    "#e) \n",
    "SELECT City, Country, Season from TABLE WHERE Rainfall BETWEEN 200 and 400\n",
    "#f) \n",
    "SELECT City, Country from TABLE WHERE Season='Fall' AND Temperature>20 ORDER BY Temperature ASC\n",
    "#g) \n",
    "SELECT SUM(Rainfall) from TABLE WHERE City='Cairo'\n",
    "#h) \n",
    "SELECT SUM(Rainfall) from TABLE GROUP BY Season\n"
   ]
  },
  {
   "cell_type": "markdown",
   "metadata": {},
   "source": [
    "### Question 10\n",
    "Suppose list words is defined as follows:\n",
    "\n",
    "words = ['The', 'quick', 'brown', 'fox', 'jumps', 'over', 'the', 'lazy', 'dog']\n",
    "\n",
    "Write list comprehension expressions that use list words and generate the following lists:"
   ]
  },
  {
   "cell_type": "code",
   "execution_count": 168,
   "metadata": {},
   "outputs": [
    {
     "name": "stdout",
     "output_type": "stream",
     "text": [
      "a) ['THE', 'QUICK', 'BROWN', 'FOX', 'JUMPS', 'OVER', 'THE', 'LAZY', 'DOG']\n",
      "b) ['the', 'quick', 'brown', 'fox', 'jumps', 'over', 'the', 'lazy', 'dog']\n",
      "c) [3, 5, 5, 3, 5, 4, 3, 4, 3]\n",
      "d) [['THE', 'the', 3], ['QUICK', 'quick', 5], ['BROWN', 'brown', 5], ['FOX', 'fox', 3], ['JUMPS', 'jumps', 5], ['OVER', 'over', 4], ['THE', 'the', 3], ['LAZY', 'lazy', 4], ['DOG', 'dog', 3]]\n",
      "e) ['quick', 'brown', 'jumps', 'over', 'lazy']\n"
     ]
    }
   ],
   "source": [
    "words = ['The', 'quick', 'brown', 'fox', 'jumps', 'over', 'the', 'lazy', 'dog']\n",
    "\n",
    "#a.\n",
    "output = []\n",
    "for i in range(len(words)):\n",
    "    output.append(words[i].upper())\n",
    "print ('a)', output)\n",
    "\n",
    "#b.\n",
    "output = []\n",
    "for i in range(len(words)):\n",
    "    output.append(words[i].lower())\n",
    "print ('b)', output)\n",
    "\n",
    "#c.\n",
    "output = []\n",
    "for i in range(len(words)):\n",
    "    output.append(len(words[i]))\n",
    "print ('c)', output)\n",
    "\n",
    "#d.\n",
    "output = []\n",
    "for i in range(len(words)):\n",
    "    item = []\n",
    "    item.append(words[i].upper())\n",
    "    item.append(words[i].lower())\n",
    "    item.append(len(words[i]))\n",
    "    output.append(item)\n",
    "print ('d)', output)\n",
    "    \n",
    "#e.\n",
    "output = []\n",
    "for i in range(len(words)):\n",
    "    if len(words[i]) > 3:\n",
    "        output.append(words[i])\n",
    "    else:\n",
    "        continue\n",
    "print ('e)', output)    \n",
    "    "
   ]
  }
 ],
 "metadata": {
  "kernelspec": {
   "display_name": "Python 3",
   "language": "python",
   "name": "python3"
  },
  "language_info": {
   "codemirror_mode": {
    "name": "ipython",
    "version": 3
   },
   "file_extension": ".py",
   "mimetype": "text/x-python",
   "name": "python",
   "nbconvert_exporter": "python",
   "pygments_lexer": "ipython3",
   "version": "3.7.6"
  }
 },
 "nbformat": 4,
 "nbformat_minor": 4
}
